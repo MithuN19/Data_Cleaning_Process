{
 "cells": [
  {
   "cell_type": "markdown",
   "id": "19221cad",
   "metadata": {},
   "source": [
    "Phase 1: Data Exploration and Assessment"
   ]
  },
  {
   "cell_type": "markdown",
   "id": "30c5df39",
   "metadata": {},
   "source": [
    "Task 1.1: Initial Data Inspection"
   ]
  },
  {
   "cell_type": "code",
   "execution_count": 1,
   "id": "ada53196",
   "metadata": {},
   "outputs": [],
   "source": [
    "import pandas as pd\n",
    "import numpy as np\n",
    "import matplotlib.pyplot as plt\n",
    "import seaborn as sns\n",
    "from datetime import datetime\n",
    "import warnings\n",
    "warnings.filterwarnings('ignore')"
   ]
  },
  {
   "cell_type": "code",
   "execution_count": 2,
   "id": "f45e59b8",
   "metadata": {},
   "outputs": [
    {
     "data": {
      "text/html": [
       "<div>\n",
       "<style scoped>\n",
       "    .dataframe tbody tr th:only-of-type {\n",
       "        vertical-align: middle;\n",
       "    }\n",
       "\n",
       "    .dataframe tbody tr th {\n",
       "        vertical-align: top;\n",
       "    }\n",
       "\n",
       "    .dataframe thead th {\n",
       "        text-align: right;\n",
       "    }\n",
       "</style>\n",
       "<table border=\"1\" class=\"dataframe\">\n",
       "  <thead>\n",
       "    <tr style=\"text-align: right;\">\n",
       "      <th></th>\n",
       "      <th>hotel</th>\n",
       "      <th>is_canceled</th>\n",
       "      <th>lead_time</th>\n",
       "      <th>arrival_date_year</th>\n",
       "      <th>arrival_date_month</th>\n",
       "      <th>arrival_date_week_number</th>\n",
       "      <th>arrival_date_day_of_month</th>\n",
       "      <th>stays_in_weekend_nights</th>\n",
       "      <th>stays_in_week_nights</th>\n",
       "      <th>adults</th>\n",
       "      <th>...</th>\n",
       "      <th>deposit_type</th>\n",
       "      <th>agent</th>\n",
       "      <th>company</th>\n",
       "      <th>days_in_waiting_list</th>\n",
       "      <th>customer_type</th>\n",
       "      <th>adr</th>\n",
       "      <th>required_car_parking_spaces</th>\n",
       "      <th>total_of_special_requests</th>\n",
       "      <th>reservation_status</th>\n",
       "      <th>reservation_status_date</th>\n",
       "    </tr>\n",
       "  </thead>\n",
       "  <tbody>\n",
       "    <tr>\n",
       "      <th>0</th>\n",
       "      <td>Resort Hotel</td>\n",
       "      <td>0</td>\n",
       "      <td>342</td>\n",
       "      <td>2015</td>\n",
       "      <td>July</td>\n",
       "      <td>27</td>\n",
       "      <td>1</td>\n",
       "      <td>0</td>\n",
       "      <td>0</td>\n",
       "      <td>2</td>\n",
       "      <td>...</td>\n",
       "      <td>No Deposit</td>\n",
       "      <td>NaN</td>\n",
       "      <td>NaN</td>\n",
       "      <td>0</td>\n",
       "      <td>Transient</td>\n",
       "      <td>0.0</td>\n",
       "      <td>0</td>\n",
       "      <td>0</td>\n",
       "      <td>Check-Out</td>\n",
       "      <td>2015-07-01</td>\n",
       "    </tr>\n",
       "    <tr>\n",
       "      <th>1</th>\n",
       "      <td>Resort Hotel</td>\n",
       "      <td>0</td>\n",
       "      <td>737</td>\n",
       "      <td>2015</td>\n",
       "      <td>July</td>\n",
       "      <td>27</td>\n",
       "      <td>1</td>\n",
       "      <td>0</td>\n",
       "      <td>0</td>\n",
       "      <td>2</td>\n",
       "      <td>...</td>\n",
       "      <td>No Deposit</td>\n",
       "      <td>NaN</td>\n",
       "      <td>NaN</td>\n",
       "      <td>0</td>\n",
       "      <td>Transient</td>\n",
       "      <td>0.0</td>\n",
       "      <td>0</td>\n",
       "      <td>0</td>\n",
       "      <td>Check-Out</td>\n",
       "      <td>2015-07-01</td>\n",
       "    </tr>\n",
       "    <tr>\n",
       "      <th>2</th>\n",
       "      <td>Resort Hotel</td>\n",
       "      <td>0</td>\n",
       "      <td>7</td>\n",
       "      <td>2015</td>\n",
       "      <td>July</td>\n",
       "      <td>27</td>\n",
       "      <td>1</td>\n",
       "      <td>0</td>\n",
       "      <td>1</td>\n",
       "      <td>1</td>\n",
       "      <td>...</td>\n",
       "      <td>No Deposit</td>\n",
       "      <td>NaN</td>\n",
       "      <td>NaN</td>\n",
       "      <td>0</td>\n",
       "      <td>Transient</td>\n",
       "      <td>75.0</td>\n",
       "      <td>0</td>\n",
       "      <td>0</td>\n",
       "      <td>Check-Out</td>\n",
       "      <td>2015-07-02</td>\n",
       "    </tr>\n",
       "    <tr>\n",
       "      <th>3</th>\n",
       "      <td>Resort Hotel</td>\n",
       "      <td>0</td>\n",
       "      <td>13</td>\n",
       "      <td>2015</td>\n",
       "      <td>July</td>\n",
       "      <td>27</td>\n",
       "      <td>1</td>\n",
       "      <td>0</td>\n",
       "      <td>1</td>\n",
       "      <td>1</td>\n",
       "      <td>...</td>\n",
       "      <td>No Deposit</td>\n",
       "      <td>304.0</td>\n",
       "      <td>NaN</td>\n",
       "      <td>0</td>\n",
       "      <td>Transient</td>\n",
       "      <td>75.0</td>\n",
       "      <td>0</td>\n",
       "      <td>0</td>\n",
       "      <td>Check-Out</td>\n",
       "      <td>2015-07-02</td>\n",
       "    </tr>\n",
       "    <tr>\n",
       "      <th>4</th>\n",
       "      <td>Resort Hotel</td>\n",
       "      <td>0</td>\n",
       "      <td>14</td>\n",
       "      <td>2015</td>\n",
       "      <td>July</td>\n",
       "      <td>27</td>\n",
       "      <td>1</td>\n",
       "      <td>0</td>\n",
       "      <td>2</td>\n",
       "      <td>2</td>\n",
       "      <td>...</td>\n",
       "      <td>No Deposit</td>\n",
       "      <td>240.0</td>\n",
       "      <td>NaN</td>\n",
       "      <td>0</td>\n",
       "      <td>Transient</td>\n",
       "      <td>98.0</td>\n",
       "      <td>0</td>\n",
       "      <td>1</td>\n",
       "      <td>Check-Out</td>\n",
       "      <td>2015-07-03</td>\n",
       "    </tr>\n",
       "  </tbody>\n",
       "</table>\n",
       "<p>5 rows × 32 columns</p>\n",
       "</div>"
      ],
      "text/plain": [
       "          hotel  is_canceled  lead_time  arrival_date_year arrival_date_month  \\\n",
       "0  Resort Hotel            0        342               2015               July   \n",
       "1  Resort Hotel            0        737               2015               July   \n",
       "2  Resort Hotel            0          7               2015               July   \n",
       "3  Resort Hotel            0         13               2015               July   \n",
       "4  Resort Hotel            0         14               2015               July   \n",
       "\n",
       "   arrival_date_week_number  arrival_date_day_of_month  \\\n",
       "0                        27                          1   \n",
       "1                        27                          1   \n",
       "2                        27                          1   \n",
       "3                        27                          1   \n",
       "4                        27                          1   \n",
       "\n",
       "   stays_in_weekend_nights  stays_in_week_nights  adults  ...  deposit_type  \\\n",
       "0                        0                     0       2  ...    No Deposit   \n",
       "1                        0                     0       2  ...    No Deposit   \n",
       "2                        0                     1       1  ...    No Deposit   \n",
       "3                        0                     1       1  ...    No Deposit   \n",
       "4                        0                     2       2  ...    No Deposit   \n",
       "\n",
       "   agent company days_in_waiting_list customer_type   adr  \\\n",
       "0    NaN     NaN                    0     Transient   0.0   \n",
       "1    NaN     NaN                    0     Transient   0.0   \n",
       "2    NaN     NaN                    0     Transient  75.0   \n",
       "3  304.0     NaN                    0     Transient  75.0   \n",
       "4  240.0     NaN                    0     Transient  98.0   \n",
       "\n",
       "   required_car_parking_spaces  total_of_special_requests  reservation_status  \\\n",
       "0                            0                          0           Check-Out   \n",
       "1                            0                          0           Check-Out   \n",
       "2                            0                          0           Check-Out   \n",
       "3                            0                          0           Check-Out   \n",
       "4                            0                          1           Check-Out   \n",
       "\n",
       "  reservation_status_date  \n",
       "0              2015-07-01  \n",
       "1              2015-07-01  \n",
       "2              2015-07-02  \n",
       "3              2015-07-02  \n",
       "4              2015-07-03  \n",
       "\n",
       "[5 rows x 32 columns]"
      ]
     },
     "execution_count": 2,
     "metadata": {},
     "output_type": "execute_result"
    }
   ],
   "source": [
    "#Load the dataset using pandas\n",
    "\n",
    "df = pd.read_csv(\"D:/Bsc IT/3 year 2 sem/Mitun_Hirushan_data_cleaning/data/hotel_bookings.csv\")\n",
    "df.head()"
   ]
  },
  {
   "cell_type": "code",
   "execution_count": 193,
   "id": "d14bdf0e",
   "metadata": {},
   "outputs": [
    {
     "data": {
      "text/plain": [
       "(119390, 32)"
      ]
     },
     "execution_count": 193,
     "metadata": {},
     "output_type": "execute_result"
    }
   ],
   "source": [
    "#Shape of the dataset\n",
    "\n",
    "df.shape"
   ]
  },
  {
   "cell_type": "code",
   "execution_count": 194,
   "id": "d5563917",
   "metadata": {},
   "outputs": [
    {
     "data": {
      "text/plain": [
       "hotel                              object\n",
       "is_canceled                         int64\n",
       "lead_time                           int64\n",
       "arrival_date_year                   int64\n",
       "arrival_date_month                 object\n",
       "arrival_date_week_number            int64\n",
       "arrival_date_day_of_month           int64\n",
       "stays_in_weekend_nights             int64\n",
       "stays_in_week_nights                int64\n",
       "adults                              int64\n",
       "children                          float64\n",
       "babies                              int64\n",
       "meal                               object\n",
       "country                            object\n",
       "market_segment                     object\n",
       "distribution_channel               object\n",
       "is_repeated_guest                   int64\n",
       "previous_cancellations              int64\n",
       "previous_bookings_not_canceled      int64\n",
       "reserved_room_type                 object\n",
       "assigned_room_type                 object\n",
       "booking_changes                     int64\n",
       "deposit_type                       object\n",
       "agent                             float64\n",
       "company                           float64\n",
       "days_in_waiting_list                int64\n",
       "customer_type                      object\n",
       "adr                               float64\n",
       "required_car_parking_spaces         int64\n",
       "total_of_special_requests           int64\n",
       "reservation_status                 object\n",
       "reservation_status_date            object\n",
       "dtype: object"
      ]
     },
     "execution_count": 194,
     "metadata": {},
     "output_type": "execute_result"
    }
   ],
   "source": [
    "#Data types of each column\n",
    "\n",
    "df.dtypes"
   ]
  },
  {
   "cell_type": "code",
   "execution_count": 195,
   "id": "eae98c7b",
   "metadata": {},
   "outputs": [
    {
     "data": {
      "text/html": [
       "<div>\n",
       "<style scoped>\n",
       "    .dataframe tbody tr th:only-of-type {\n",
       "        vertical-align: middle;\n",
       "    }\n",
       "\n",
       "    .dataframe tbody tr th {\n",
       "        vertical-align: top;\n",
       "    }\n",
       "\n",
       "    .dataframe thead th {\n",
       "        text-align: right;\n",
       "    }\n",
       "</style>\n",
       "<table border=\"1\" class=\"dataframe\">\n",
       "  <thead>\n",
       "    <tr style=\"text-align: right;\">\n",
       "      <th></th>\n",
       "      <th>hotel</th>\n",
       "      <th>is_canceled</th>\n",
       "      <th>lead_time</th>\n",
       "      <th>arrival_date_year</th>\n",
       "      <th>arrival_date_month</th>\n",
       "      <th>arrival_date_week_number</th>\n",
       "      <th>arrival_date_day_of_month</th>\n",
       "      <th>stays_in_weekend_nights</th>\n",
       "      <th>stays_in_week_nights</th>\n",
       "      <th>adults</th>\n",
       "      <th>...</th>\n",
       "      <th>deposit_type</th>\n",
       "      <th>agent</th>\n",
       "      <th>company</th>\n",
       "      <th>days_in_waiting_list</th>\n",
       "      <th>customer_type</th>\n",
       "      <th>adr</th>\n",
       "      <th>required_car_parking_spaces</th>\n",
       "      <th>total_of_special_requests</th>\n",
       "      <th>reservation_status</th>\n",
       "      <th>reservation_status_date</th>\n",
       "    </tr>\n",
       "  </thead>\n",
       "  <tbody>\n",
       "    <tr>\n",
       "      <th>0</th>\n",
       "      <td>Resort Hotel</td>\n",
       "      <td>0</td>\n",
       "      <td>342</td>\n",
       "      <td>2015</td>\n",
       "      <td>July</td>\n",
       "      <td>27</td>\n",
       "      <td>1</td>\n",
       "      <td>0</td>\n",
       "      <td>0</td>\n",
       "      <td>2</td>\n",
       "      <td>...</td>\n",
       "      <td>No Deposit</td>\n",
       "      <td>NaN</td>\n",
       "      <td>NaN</td>\n",
       "      <td>0</td>\n",
       "      <td>Transient</td>\n",
       "      <td>0.0</td>\n",
       "      <td>0</td>\n",
       "      <td>0</td>\n",
       "      <td>Check-Out</td>\n",
       "      <td>2015-07-01</td>\n",
       "    </tr>\n",
       "    <tr>\n",
       "      <th>1</th>\n",
       "      <td>Resort Hotel</td>\n",
       "      <td>0</td>\n",
       "      <td>737</td>\n",
       "      <td>2015</td>\n",
       "      <td>July</td>\n",
       "      <td>27</td>\n",
       "      <td>1</td>\n",
       "      <td>0</td>\n",
       "      <td>0</td>\n",
       "      <td>2</td>\n",
       "      <td>...</td>\n",
       "      <td>No Deposit</td>\n",
       "      <td>NaN</td>\n",
       "      <td>NaN</td>\n",
       "      <td>0</td>\n",
       "      <td>Transient</td>\n",
       "      <td>0.0</td>\n",
       "      <td>0</td>\n",
       "      <td>0</td>\n",
       "      <td>Check-Out</td>\n",
       "      <td>2015-07-01</td>\n",
       "    </tr>\n",
       "    <tr>\n",
       "      <th>2</th>\n",
       "      <td>Resort Hotel</td>\n",
       "      <td>0</td>\n",
       "      <td>7</td>\n",
       "      <td>2015</td>\n",
       "      <td>July</td>\n",
       "      <td>27</td>\n",
       "      <td>1</td>\n",
       "      <td>0</td>\n",
       "      <td>1</td>\n",
       "      <td>1</td>\n",
       "      <td>...</td>\n",
       "      <td>No Deposit</td>\n",
       "      <td>NaN</td>\n",
       "      <td>NaN</td>\n",
       "      <td>0</td>\n",
       "      <td>Transient</td>\n",
       "      <td>75.0</td>\n",
       "      <td>0</td>\n",
       "      <td>0</td>\n",
       "      <td>Check-Out</td>\n",
       "      <td>2015-07-02</td>\n",
       "    </tr>\n",
       "    <tr>\n",
       "      <th>3</th>\n",
       "      <td>Resort Hotel</td>\n",
       "      <td>0</td>\n",
       "      <td>13</td>\n",
       "      <td>2015</td>\n",
       "      <td>July</td>\n",
       "      <td>27</td>\n",
       "      <td>1</td>\n",
       "      <td>0</td>\n",
       "      <td>1</td>\n",
       "      <td>1</td>\n",
       "      <td>...</td>\n",
       "      <td>No Deposit</td>\n",
       "      <td>304.0</td>\n",
       "      <td>NaN</td>\n",
       "      <td>0</td>\n",
       "      <td>Transient</td>\n",
       "      <td>75.0</td>\n",
       "      <td>0</td>\n",
       "      <td>0</td>\n",
       "      <td>Check-Out</td>\n",
       "      <td>2015-07-02</td>\n",
       "    </tr>\n",
       "    <tr>\n",
       "      <th>4</th>\n",
       "      <td>Resort Hotel</td>\n",
       "      <td>0</td>\n",
       "      <td>14</td>\n",
       "      <td>2015</td>\n",
       "      <td>July</td>\n",
       "      <td>27</td>\n",
       "      <td>1</td>\n",
       "      <td>0</td>\n",
       "      <td>2</td>\n",
       "      <td>2</td>\n",
       "      <td>...</td>\n",
       "      <td>No Deposit</td>\n",
       "      <td>240.0</td>\n",
       "      <td>NaN</td>\n",
       "      <td>0</td>\n",
       "      <td>Transient</td>\n",
       "      <td>98.0</td>\n",
       "      <td>0</td>\n",
       "      <td>1</td>\n",
       "      <td>Check-Out</td>\n",
       "      <td>2015-07-03</td>\n",
       "    </tr>\n",
       "  </tbody>\n",
       "</table>\n",
       "<p>5 rows × 32 columns</p>\n",
       "</div>"
      ],
      "text/plain": [
       "          hotel  is_canceled  lead_time  arrival_date_year arrival_date_month  \\\n",
       "0  Resort Hotel            0        342               2015               July   \n",
       "1  Resort Hotel            0        737               2015               July   \n",
       "2  Resort Hotel            0          7               2015               July   \n",
       "3  Resort Hotel            0         13               2015               July   \n",
       "4  Resort Hotel            0         14               2015               July   \n",
       "\n",
       "   arrival_date_week_number  arrival_date_day_of_month  \\\n",
       "0                        27                          1   \n",
       "1                        27                          1   \n",
       "2                        27                          1   \n",
       "3                        27                          1   \n",
       "4                        27                          1   \n",
       "\n",
       "   stays_in_weekend_nights  stays_in_week_nights  adults  ...  deposit_type  \\\n",
       "0                        0                     0       2  ...    No Deposit   \n",
       "1                        0                     0       2  ...    No Deposit   \n",
       "2                        0                     1       1  ...    No Deposit   \n",
       "3                        0                     1       1  ...    No Deposit   \n",
       "4                        0                     2       2  ...    No Deposit   \n",
       "\n",
       "   agent company days_in_waiting_list customer_type   adr  \\\n",
       "0    NaN     NaN                    0     Transient   0.0   \n",
       "1    NaN     NaN                    0     Transient   0.0   \n",
       "2    NaN     NaN                    0     Transient  75.0   \n",
       "3  304.0     NaN                    0     Transient  75.0   \n",
       "4  240.0     NaN                    0     Transient  98.0   \n",
       "\n",
       "   required_car_parking_spaces  total_of_special_requests  reservation_status  \\\n",
       "0                            0                          0           Check-Out   \n",
       "1                            0                          0           Check-Out   \n",
       "2                            0                          0           Check-Out   \n",
       "3                            0                          0           Check-Out   \n",
       "4                            0                          1           Check-Out   \n",
       "\n",
       "  reservation_status_date  \n",
       "0              2015-07-01  \n",
       "1              2015-07-01  \n",
       "2              2015-07-02  \n",
       "3              2015-07-02  \n",
       "4              2015-07-03  \n",
       "\n",
       "[5 rows x 32 columns]"
      ]
     },
     "execution_count": 195,
     "metadata": {},
     "output_type": "execute_result"
    }
   ],
   "source": [
    "#First 5 rows\n",
    "\n",
    "df.head()"
   ]
  },
  {
   "cell_type": "code",
   "execution_count": 196,
   "id": "6572c815",
   "metadata": {},
   "outputs": [
    {
     "data": {
      "text/html": [
       "<div>\n",
       "<style scoped>\n",
       "    .dataframe tbody tr th:only-of-type {\n",
       "        vertical-align: middle;\n",
       "    }\n",
       "\n",
       "    .dataframe tbody tr th {\n",
       "        vertical-align: top;\n",
       "    }\n",
       "\n",
       "    .dataframe thead th {\n",
       "        text-align: right;\n",
       "    }\n",
       "</style>\n",
       "<table border=\"1\" class=\"dataframe\">\n",
       "  <thead>\n",
       "    <tr style=\"text-align: right;\">\n",
       "      <th></th>\n",
       "      <th>hotel</th>\n",
       "      <th>is_canceled</th>\n",
       "      <th>lead_time</th>\n",
       "      <th>arrival_date_year</th>\n",
       "      <th>arrival_date_month</th>\n",
       "      <th>arrival_date_week_number</th>\n",
       "      <th>arrival_date_day_of_month</th>\n",
       "      <th>stays_in_weekend_nights</th>\n",
       "      <th>stays_in_week_nights</th>\n",
       "      <th>adults</th>\n",
       "      <th>...</th>\n",
       "      <th>deposit_type</th>\n",
       "      <th>agent</th>\n",
       "      <th>company</th>\n",
       "      <th>days_in_waiting_list</th>\n",
       "      <th>customer_type</th>\n",
       "      <th>adr</th>\n",
       "      <th>required_car_parking_spaces</th>\n",
       "      <th>total_of_special_requests</th>\n",
       "      <th>reservation_status</th>\n",
       "      <th>reservation_status_date</th>\n",
       "    </tr>\n",
       "  </thead>\n",
       "  <tbody>\n",
       "    <tr>\n",
       "      <th>119385</th>\n",
       "      <td>City Hotel</td>\n",
       "      <td>0</td>\n",
       "      <td>23</td>\n",
       "      <td>2017</td>\n",
       "      <td>August</td>\n",
       "      <td>35</td>\n",
       "      <td>30</td>\n",
       "      <td>2</td>\n",
       "      <td>5</td>\n",
       "      <td>2</td>\n",
       "      <td>...</td>\n",
       "      <td>No Deposit</td>\n",
       "      <td>394.0</td>\n",
       "      <td>NaN</td>\n",
       "      <td>0</td>\n",
       "      <td>Transient</td>\n",
       "      <td>96.14</td>\n",
       "      <td>0</td>\n",
       "      <td>0</td>\n",
       "      <td>Check-Out</td>\n",
       "      <td>2017-09-06</td>\n",
       "    </tr>\n",
       "    <tr>\n",
       "      <th>119386</th>\n",
       "      <td>City Hotel</td>\n",
       "      <td>0</td>\n",
       "      <td>102</td>\n",
       "      <td>2017</td>\n",
       "      <td>August</td>\n",
       "      <td>35</td>\n",
       "      <td>31</td>\n",
       "      <td>2</td>\n",
       "      <td>5</td>\n",
       "      <td>3</td>\n",
       "      <td>...</td>\n",
       "      <td>No Deposit</td>\n",
       "      <td>9.0</td>\n",
       "      <td>NaN</td>\n",
       "      <td>0</td>\n",
       "      <td>Transient</td>\n",
       "      <td>225.43</td>\n",
       "      <td>0</td>\n",
       "      <td>2</td>\n",
       "      <td>Check-Out</td>\n",
       "      <td>2017-09-07</td>\n",
       "    </tr>\n",
       "    <tr>\n",
       "      <th>119387</th>\n",
       "      <td>City Hotel</td>\n",
       "      <td>0</td>\n",
       "      <td>34</td>\n",
       "      <td>2017</td>\n",
       "      <td>August</td>\n",
       "      <td>35</td>\n",
       "      <td>31</td>\n",
       "      <td>2</td>\n",
       "      <td>5</td>\n",
       "      <td>2</td>\n",
       "      <td>...</td>\n",
       "      <td>No Deposit</td>\n",
       "      <td>9.0</td>\n",
       "      <td>NaN</td>\n",
       "      <td>0</td>\n",
       "      <td>Transient</td>\n",
       "      <td>157.71</td>\n",
       "      <td>0</td>\n",
       "      <td>4</td>\n",
       "      <td>Check-Out</td>\n",
       "      <td>2017-09-07</td>\n",
       "    </tr>\n",
       "    <tr>\n",
       "      <th>119388</th>\n",
       "      <td>City Hotel</td>\n",
       "      <td>0</td>\n",
       "      <td>109</td>\n",
       "      <td>2017</td>\n",
       "      <td>August</td>\n",
       "      <td>35</td>\n",
       "      <td>31</td>\n",
       "      <td>2</td>\n",
       "      <td>5</td>\n",
       "      <td>2</td>\n",
       "      <td>...</td>\n",
       "      <td>No Deposit</td>\n",
       "      <td>89.0</td>\n",
       "      <td>NaN</td>\n",
       "      <td>0</td>\n",
       "      <td>Transient</td>\n",
       "      <td>104.40</td>\n",
       "      <td>0</td>\n",
       "      <td>0</td>\n",
       "      <td>Check-Out</td>\n",
       "      <td>2017-09-07</td>\n",
       "    </tr>\n",
       "    <tr>\n",
       "      <th>119389</th>\n",
       "      <td>City Hotel</td>\n",
       "      <td>0</td>\n",
       "      <td>205</td>\n",
       "      <td>2017</td>\n",
       "      <td>August</td>\n",
       "      <td>35</td>\n",
       "      <td>29</td>\n",
       "      <td>2</td>\n",
       "      <td>7</td>\n",
       "      <td>2</td>\n",
       "      <td>...</td>\n",
       "      <td>No Deposit</td>\n",
       "      <td>9.0</td>\n",
       "      <td>NaN</td>\n",
       "      <td>0</td>\n",
       "      <td>Transient</td>\n",
       "      <td>151.20</td>\n",
       "      <td>0</td>\n",
       "      <td>2</td>\n",
       "      <td>Check-Out</td>\n",
       "      <td>2017-09-07</td>\n",
       "    </tr>\n",
       "  </tbody>\n",
       "</table>\n",
       "<p>5 rows × 32 columns</p>\n",
       "</div>"
      ],
      "text/plain": [
       "             hotel  is_canceled  lead_time  arrival_date_year  \\\n",
       "119385  City Hotel            0         23               2017   \n",
       "119386  City Hotel            0        102               2017   \n",
       "119387  City Hotel            0         34               2017   \n",
       "119388  City Hotel            0        109               2017   \n",
       "119389  City Hotel            0        205               2017   \n",
       "\n",
       "       arrival_date_month  arrival_date_week_number  \\\n",
       "119385             August                        35   \n",
       "119386             August                        35   \n",
       "119387             August                        35   \n",
       "119388             August                        35   \n",
       "119389             August                        35   \n",
       "\n",
       "        arrival_date_day_of_month  stays_in_weekend_nights  \\\n",
       "119385                         30                        2   \n",
       "119386                         31                        2   \n",
       "119387                         31                        2   \n",
       "119388                         31                        2   \n",
       "119389                         29                        2   \n",
       "\n",
       "        stays_in_week_nights  adults  ...  deposit_type  agent company  \\\n",
       "119385                     5       2  ...    No Deposit  394.0     NaN   \n",
       "119386                     5       3  ...    No Deposit    9.0     NaN   \n",
       "119387                     5       2  ...    No Deposit    9.0     NaN   \n",
       "119388                     5       2  ...    No Deposit   89.0     NaN   \n",
       "119389                     7       2  ...    No Deposit    9.0     NaN   \n",
       "\n",
       "       days_in_waiting_list customer_type     adr  \\\n",
       "119385                    0     Transient   96.14   \n",
       "119386                    0     Transient  225.43   \n",
       "119387                    0     Transient  157.71   \n",
       "119388                    0     Transient  104.40   \n",
       "119389                    0     Transient  151.20   \n",
       "\n",
       "        required_car_parking_spaces  total_of_special_requests  \\\n",
       "119385                            0                          0   \n",
       "119386                            0                          2   \n",
       "119387                            0                          4   \n",
       "119388                            0                          0   \n",
       "119389                            0                          2   \n",
       "\n",
       "        reservation_status reservation_status_date  \n",
       "119385           Check-Out              2017-09-06  \n",
       "119386           Check-Out              2017-09-07  \n",
       "119387           Check-Out              2017-09-07  \n",
       "119388           Check-Out              2017-09-07  \n",
       "119389           Check-Out              2017-09-07  \n",
       "\n",
       "[5 rows x 32 columns]"
      ]
     },
     "execution_count": 196,
     "metadata": {},
     "output_type": "execute_result"
    }
   ],
   "source": [
    "#Last 5 rows\n",
    "\n",
    "df.tail()"
   ]
  },
  {
   "cell_type": "code",
   "execution_count": 197,
   "id": "4ae93001",
   "metadata": {},
   "outputs": [
    {
     "data": {
      "text/html": [
       "<div>\n",
       "<style scoped>\n",
       "    .dataframe tbody tr th:only-of-type {\n",
       "        vertical-align: middle;\n",
       "    }\n",
       "\n",
       "    .dataframe tbody tr th {\n",
       "        vertical-align: top;\n",
       "    }\n",
       "\n",
       "    .dataframe thead th {\n",
       "        text-align: right;\n",
       "    }\n",
       "</style>\n",
       "<table border=\"1\" class=\"dataframe\">\n",
       "  <thead>\n",
       "    <tr style=\"text-align: right;\">\n",
       "      <th></th>\n",
       "      <th>hotel</th>\n",
       "      <th>is_canceled</th>\n",
       "      <th>lead_time</th>\n",
       "      <th>arrival_date_year</th>\n",
       "      <th>arrival_date_month</th>\n",
       "      <th>arrival_date_week_number</th>\n",
       "      <th>arrival_date_day_of_month</th>\n",
       "      <th>stays_in_weekend_nights</th>\n",
       "      <th>stays_in_week_nights</th>\n",
       "      <th>adults</th>\n",
       "      <th>...</th>\n",
       "      <th>deposit_type</th>\n",
       "      <th>agent</th>\n",
       "      <th>company</th>\n",
       "      <th>days_in_waiting_list</th>\n",
       "      <th>customer_type</th>\n",
       "      <th>adr</th>\n",
       "      <th>required_car_parking_spaces</th>\n",
       "      <th>total_of_special_requests</th>\n",
       "      <th>reservation_status</th>\n",
       "      <th>reservation_status_date</th>\n",
       "    </tr>\n",
       "  </thead>\n",
       "  <tbody>\n",
       "    <tr>\n",
       "      <th>count</th>\n",
       "      <td>119390</td>\n",
       "      <td>119390.000000</td>\n",
       "      <td>119390.000000</td>\n",
       "      <td>119390.000000</td>\n",
       "      <td>119390</td>\n",
       "      <td>119390.000000</td>\n",
       "      <td>119390.000000</td>\n",
       "      <td>119390.000000</td>\n",
       "      <td>119390.000000</td>\n",
       "      <td>119390.000000</td>\n",
       "      <td>...</td>\n",
       "      <td>119390</td>\n",
       "      <td>103050.000000</td>\n",
       "      <td>6797.000000</td>\n",
       "      <td>119390.000000</td>\n",
       "      <td>119390</td>\n",
       "      <td>119390.000000</td>\n",
       "      <td>119390.000000</td>\n",
       "      <td>119390.000000</td>\n",
       "      <td>119390</td>\n",
       "      <td>119390</td>\n",
       "    </tr>\n",
       "    <tr>\n",
       "      <th>unique</th>\n",
       "      <td>2</td>\n",
       "      <td>NaN</td>\n",
       "      <td>NaN</td>\n",
       "      <td>NaN</td>\n",
       "      <td>12</td>\n",
       "      <td>NaN</td>\n",
       "      <td>NaN</td>\n",
       "      <td>NaN</td>\n",
       "      <td>NaN</td>\n",
       "      <td>NaN</td>\n",
       "      <td>...</td>\n",
       "      <td>3</td>\n",
       "      <td>NaN</td>\n",
       "      <td>NaN</td>\n",
       "      <td>NaN</td>\n",
       "      <td>4</td>\n",
       "      <td>NaN</td>\n",
       "      <td>NaN</td>\n",
       "      <td>NaN</td>\n",
       "      <td>3</td>\n",
       "      <td>926</td>\n",
       "    </tr>\n",
       "    <tr>\n",
       "      <th>top</th>\n",
       "      <td>City Hotel</td>\n",
       "      <td>NaN</td>\n",
       "      <td>NaN</td>\n",
       "      <td>NaN</td>\n",
       "      <td>August</td>\n",
       "      <td>NaN</td>\n",
       "      <td>NaN</td>\n",
       "      <td>NaN</td>\n",
       "      <td>NaN</td>\n",
       "      <td>NaN</td>\n",
       "      <td>...</td>\n",
       "      <td>No Deposit</td>\n",
       "      <td>NaN</td>\n",
       "      <td>NaN</td>\n",
       "      <td>NaN</td>\n",
       "      <td>Transient</td>\n",
       "      <td>NaN</td>\n",
       "      <td>NaN</td>\n",
       "      <td>NaN</td>\n",
       "      <td>Check-Out</td>\n",
       "      <td>2015-10-21</td>\n",
       "    </tr>\n",
       "    <tr>\n",
       "      <th>freq</th>\n",
       "      <td>79330</td>\n",
       "      <td>NaN</td>\n",
       "      <td>NaN</td>\n",
       "      <td>NaN</td>\n",
       "      <td>13877</td>\n",
       "      <td>NaN</td>\n",
       "      <td>NaN</td>\n",
       "      <td>NaN</td>\n",
       "      <td>NaN</td>\n",
       "      <td>NaN</td>\n",
       "      <td>...</td>\n",
       "      <td>104641</td>\n",
       "      <td>NaN</td>\n",
       "      <td>NaN</td>\n",
       "      <td>NaN</td>\n",
       "      <td>89613</td>\n",
       "      <td>NaN</td>\n",
       "      <td>NaN</td>\n",
       "      <td>NaN</td>\n",
       "      <td>75166</td>\n",
       "      <td>1461</td>\n",
       "    </tr>\n",
       "    <tr>\n",
       "      <th>mean</th>\n",
       "      <td>NaN</td>\n",
       "      <td>0.370416</td>\n",
       "      <td>104.011416</td>\n",
       "      <td>2016.156554</td>\n",
       "      <td>NaN</td>\n",
       "      <td>27.165173</td>\n",
       "      <td>15.798241</td>\n",
       "      <td>0.927599</td>\n",
       "      <td>2.500302</td>\n",
       "      <td>1.856403</td>\n",
       "      <td>...</td>\n",
       "      <td>NaN</td>\n",
       "      <td>86.693382</td>\n",
       "      <td>189.266735</td>\n",
       "      <td>2.321149</td>\n",
       "      <td>NaN</td>\n",
       "      <td>101.831122</td>\n",
       "      <td>0.062518</td>\n",
       "      <td>0.571363</td>\n",
       "      <td>NaN</td>\n",
       "      <td>NaN</td>\n",
       "    </tr>\n",
       "    <tr>\n",
       "      <th>std</th>\n",
       "      <td>NaN</td>\n",
       "      <td>0.482918</td>\n",
       "      <td>106.863097</td>\n",
       "      <td>0.707476</td>\n",
       "      <td>NaN</td>\n",
       "      <td>13.605138</td>\n",
       "      <td>8.780829</td>\n",
       "      <td>0.998613</td>\n",
       "      <td>1.908286</td>\n",
       "      <td>0.579261</td>\n",
       "      <td>...</td>\n",
       "      <td>NaN</td>\n",
       "      <td>110.774548</td>\n",
       "      <td>131.655015</td>\n",
       "      <td>17.594721</td>\n",
       "      <td>NaN</td>\n",
       "      <td>50.535790</td>\n",
       "      <td>0.245291</td>\n",
       "      <td>0.792798</td>\n",
       "      <td>NaN</td>\n",
       "      <td>NaN</td>\n",
       "    </tr>\n",
       "    <tr>\n",
       "      <th>min</th>\n",
       "      <td>NaN</td>\n",
       "      <td>0.000000</td>\n",
       "      <td>0.000000</td>\n",
       "      <td>2015.000000</td>\n",
       "      <td>NaN</td>\n",
       "      <td>1.000000</td>\n",
       "      <td>1.000000</td>\n",
       "      <td>0.000000</td>\n",
       "      <td>0.000000</td>\n",
       "      <td>0.000000</td>\n",
       "      <td>...</td>\n",
       "      <td>NaN</td>\n",
       "      <td>1.000000</td>\n",
       "      <td>6.000000</td>\n",
       "      <td>0.000000</td>\n",
       "      <td>NaN</td>\n",
       "      <td>-6.380000</td>\n",
       "      <td>0.000000</td>\n",
       "      <td>0.000000</td>\n",
       "      <td>NaN</td>\n",
       "      <td>NaN</td>\n",
       "    </tr>\n",
       "    <tr>\n",
       "      <th>25%</th>\n",
       "      <td>NaN</td>\n",
       "      <td>0.000000</td>\n",
       "      <td>18.000000</td>\n",
       "      <td>2016.000000</td>\n",
       "      <td>NaN</td>\n",
       "      <td>16.000000</td>\n",
       "      <td>8.000000</td>\n",
       "      <td>0.000000</td>\n",
       "      <td>1.000000</td>\n",
       "      <td>2.000000</td>\n",
       "      <td>...</td>\n",
       "      <td>NaN</td>\n",
       "      <td>9.000000</td>\n",
       "      <td>62.000000</td>\n",
       "      <td>0.000000</td>\n",
       "      <td>NaN</td>\n",
       "      <td>69.290000</td>\n",
       "      <td>0.000000</td>\n",
       "      <td>0.000000</td>\n",
       "      <td>NaN</td>\n",
       "      <td>NaN</td>\n",
       "    </tr>\n",
       "    <tr>\n",
       "      <th>50%</th>\n",
       "      <td>NaN</td>\n",
       "      <td>0.000000</td>\n",
       "      <td>69.000000</td>\n",
       "      <td>2016.000000</td>\n",
       "      <td>NaN</td>\n",
       "      <td>28.000000</td>\n",
       "      <td>16.000000</td>\n",
       "      <td>1.000000</td>\n",
       "      <td>2.000000</td>\n",
       "      <td>2.000000</td>\n",
       "      <td>...</td>\n",
       "      <td>NaN</td>\n",
       "      <td>14.000000</td>\n",
       "      <td>179.000000</td>\n",
       "      <td>0.000000</td>\n",
       "      <td>NaN</td>\n",
       "      <td>94.575000</td>\n",
       "      <td>0.000000</td>\n",
       "      <td>0.000000</td>\n",
       "      <td>NaN</td>\n",
       "      <td>NaN</td>\n",
       "    </tr>\n",
       "    <tr>\n",
       "      <th>75%</th>\n",
       "      <td>NaN</td>\n",
       "      <td>1.000000</td>\n",
       "      <td>160.000000</td>\n",
       "      <td>2017.000000</td>\n",
       "      <td>NaN</td>\n",
       "      <td>38.000000</td>\n",
       "      <td>23.000000</td>\n",
       "      <td>2.000000</td>\n",
       "      <td>3.000000</td>\n",
       "      <td>2.000000</td>\n",
       "      <td>...</td>\n",
       "      <td>NaN</td>\n",
       "      <td>229.000000</td>\n",
       "      <td>270.000000</td>\n",
       "      <td>0.000000</td>\n",
       "      <td>NaN</td>\n",
       "      <td>126.000000</td>\n",
       "      <td>0.000000</td>\n",
       "      <td>1.000000</td>\n",
       "      <td>NaN</td>\n",
       "      <td>NaN</td>\n",
       "    </tr>\n",
       "    <tr>\n",
       "      <th>max</th>\n",
       "      <td>NaN</td>\n",
       "      <td>1.000000</td>\n",
       "      <td>737.000000</td>\n",
       "      <td>2017.000000</td>\n",
       "      <td>NaN</td>\n",
       "      <td>53.000000</td>\n",
       "      <td>31.000000</td>\n",
       "      <td>19.000000</td>\n",
       "      <td>50.000000</td>\n",
       "      <td>55.000000</td>\n",
       "      <td>...</td>\n",
       "      <td>NaN</td>\n",
       "      <td>535.000000</td>\n",
       "      <td>543.000000</td>\n",
       "      <td>391.000000</td>\n",
       "      <td>NaN</td>\n",
       "      <td>5400.000000</td>\n",
       "      <td>8.000000</td>\n",
       "      <td>5.000000</td>\n",
       "      <td>NaN</td>\n",
       "      <td>NaN</td>\n",
       "    </tr>\n",
       "  </tbody>\n",
       "</table>\n",
       "<p>11 rows × 32 columns</p>\n",
       "</div>"
      ],
      "text/plain": [
       "             hotel    is_canceled      lead_time  arrival_date_year  \\\n",
       "count       119390  119390.000000  119390.000000      119390.000000   \n",
       "unique           2            NaN            NaN                NaN   \n",
       "top     City Hotel            NaN            NaN                NaN   \n",
       "freq         79330            NaN            NaN                NaN   \n",
       "mean           NaN       0.370416     104.011416        2016.156554   \n",
       "std            NaN       0.482918     106.863097           0.707476   \n",
       "min            NaN       0.000000       0.000000        2015.000000   \n",
       "25%            NaN       0.000000      18.000000        2016.000000   \n",
       "50%            NaN       0.000000      69.000000        2016.000000   \n",
       "75%            NaN       1.000000     160.000000        2017.000000   \n",
       "max            NaN       1.000000     737.000000        2017.000000   \n",
       "\n",
       "       arrival_date_month  arrival_date_week_number  \\\n",
       "count              119390             119390.000000   \n",
       "unique                 12                       NaN   \n",
       "top                August                       NaN   \n",
       "freq                13877                       NaN   \n",
       "mean                  NaN                 27.165173   \n",
       "std                   NaN                 13.605138   \n",
       "min                   NaN                  1.000000   \n",
       "25%                   NaN                 16.000000   \n",
       "50%                   NaN                 28.000000   \n",
       "75%                   NaN                 38.000000   \n",
       "max                   NaN                 53.000000   \n",
       "\n",
       "        arrival_date_day_of_month  stays_in_weekend_nights  \\\n",
       "count               119390.000000            119390.000000   \n",
       "unique                        NaN                      NaN   \n",
       "top                           NaN                      NaN   \n",
       "freq                          NaN                      NaN   \n",
       "mean                    15.798241                 0.927599   \n",
       "std                      8.780829                 0.998613   \n",
       "min                      1.000000                 0.000000   \n",
       "25%                      8.000000                 0.000000   \n",
       "50%                     16.000000                 1.000000   \n",
       "75%                     23.000000                 2.000000   \n",
       "max                     31.000000                19.000000   \n",
       "\n",
       "        stays_in_week_nights         adults  ...  deposit_type          agent  \\\n",
       "count          119390.000000  119390.000000  ...        119390  103050.000000   \n",
       "unique                   NaN            NaN  ...             3            NaN   \n",
       "top                      NaN            NaN  ...    No Deposit            NaN   \n",
       "freq                     NaN            NaN  ...        104641            NaN   \n",
       "mean                2.500302       1.856403  ...           NaN      86.693382   \n",
       "std                 1.908286       0.579261  ...           NaN     110.774548   \n",
       "min                 0.000000       0.000000  ...           NaN       1.000000   \n",
       "25%                 1.000000       2.000000  ...           NaN       9.000000   \n",
       "50%                 2.000000       2.000000  ...           NaN      14.000000   \n",
       "75%                 3.000000       2.000000  ...           NaN     229.000000   \n",
       "max                50.000000      55.000000  ...           NaN     535.000000   \n",
       "\n",
       "            company days_in_waiting_list customer_type            adr  \\\n",
       "count   6797.000000        119390.000000        119390  119390.000000   \n",
       "unique          NaN                  NaN             4            NaN   \n",
       "top             NaN                  NaN     Transient            NaN   \n",
       "freq            NaN                  NaN         89613            NaN   \n",
       "mean     189.266735             2.321149           NaN     101.831122   \n",
       "std      131.655015            17.594721           NaN      50.535790   \n",
       "min        6.000000             0.000000           NaN      -6.380000   \n",
       "25%       62.000000             0.000000           NaN      69.290000   \n",
       "50%      179.000000             0.000000           NaN      94.575000   \n",
       "75%      270.000000             0.000000           NaN     126.000000   \n",
       "max      543.000000           391.000000           NaN    5400.000000   \n",
       "\n",
       "        required_car_parking_spaces  total_of_special_requests  \\\n",
       "count                 119390.000000              119390.000000   \n",
       "unique                          NaN                        NaN   \n",
       "top                             NaN                        NaN   \n",
       "freq                            NaN                        NaN   \n",
       "mean                       0.062518                   0.571363   \n",
       "std                        0.245291                   0.792798   \n",
       "min                        0.000000                   0.000000   \n",
       "25%                        0.000000                   0.000000   \n",
       "50%                        0.000000                   0.000000   \n",
       "75%                        0.000000                   1.000000   \n",
       "max                        8.000000                   5.000000   \n",
       "\n",
       "        reservation_status reservation_status_date  \n",
       "count               119390                  119390  \n",
       "unique                   3                     926  \n",
       "top              Check-Out              2015-10-21  \n",
       "freq                 75166                    1461  \n",
       "mean                   NaN                     NaN  \n",
       "std                    NaN                     NaN  \n",
       "min                    NaN                     NaN  \n",
       "25%                    NaN                     NaN  \n",
       "50%                    NaN                     NaN  \n",
       "75%                    NaN                     NaN  \n",
       "max                    NaN                     NaN  \n",
       "\n",
       "[11 rows x 32 columns]"
      ]
     },
     "execution_count": 197,
     "metadata": {},
     "output_type": "execute_result"
    }
   ],
   "source": [
    "#Basic statistical summary\n",
    "\n",
    "df.describe(include='all')"
   ]
  },
  {
   "cell_type": "markdown",
   "id": "a4e26ce5",
   "metadata": {},
   "source": [
    "● What is the structure of this dataset?\n",
    "    Rows: 119,390\n",
    "\n",
    "● Which columns contain missing values?\n",
    "    Columns: 32\n",
    "    \n",
    "● What data types need to be converted?\n",
    "    Mixed data types: integers, floats, objects (categorical), and dates."
   ]
  },
  {
   "cell_type": "markdown",
   "id": "c7779b97",
   "metadata": {},
   "source": [
    "Task 1.2: Missing Value Analysis"
   ]
  },
  {
   "cell_type": "code",
   "execution_count": 198,
   "id": "988aa30c",
   "metadata": {},
   "outputs": [
    {
     "name": "stdout",
     "output_type": "stream",
     "text": [
      "children         4\n",
      "country        488\n",
      "agent        16340\n",
      "company     112593\n",
      "dtype: int64\n"
     ]
    }
   ],
   "source": [
    "# Identify all columns with missing values\n",
    "\n",
    "missing = df.isnull().sum()\n",
    "print(missing[missing > 0])"
   ]
  },
  {
   "cell_type": "code",
   "execution_count": 199,
   "id": "774d0158",
   "metadata": {},
   "outputs": [
    {
     "name": "stdout",
     "output_type": "stream",
     "text": [
      "\n",
      "Missing Value Report:\n",
      "                                 Missing Count  Missing %\n",
      "hotel                                       0       0.00\n",
      "is_canceled                                 0       0.00\n",
      "lead_time                                   0       0.00\n",
      "arrival_date_year                           0       0.00\n",
      "arrival_date_month                          0       0.00\n",
      "arrival_date_week_number                    0       0.00\n",
      "arrival_date_day_of_month                   0       0.00\n",
      "stays_in_weekend_nights                     0       0.00\n",
      "stays_in_week_nights                        0       0.00\n",
      "adults                                      0       0.00\n",
      "children                                    4       0.00\n",
      "babies                                      0       0.00\n",
      "meal                                        0       0.00\n",
      "country                                   488       0.41\n",
      "market_segment                              0       0.00\n",
      "distribution_channel                        0       0.00\n",
      "is_repeated_guest                           0       0.00\n",
      "previous_cancellations                      0       0.00\n",
      "previous_bookings_not_canceled              0       0.00\n",
      "reserved_room_type                          0       0.00\n",
      "assigned_room_type                          0       0.00\n",
      "booking_changes                             0       0.00\n",
      "deposit_type                                0       0.00\n",
      "agent                                   16340      13.69\n",
      "company                                112593      94.31\n",
      "days_in_waiting_list                        0       0.00\n",
      "customer_type                               0       0.00\n",
      "adr                                         0       0.00\n",
      "required_car_parking_spaces                 0       0.00\n",
      "total_of_special_requests                   0       0.00\n",
      "reservation_status                          0       0.00\n",
      "reservation_status_date                     0       0.00\n"
     ]
    }
   ],
   "source": [
    "#Calculate the percentage of missing values for each column\n",
    "\n",
    "missing_percent = (missing / len(df)) * 100\n",
    "missing_report = pd.DataFrame({\n",
    "    'Missing Count': missing,\n",
    "    'Missing %': missing_percent.round(2)\n",
    "})\n",
    "print(\"\\nMissing Value Report:\\n\", missing_report)"
   ]
  },
  {
   "cell_type": "code",
   "execution_count": 200,
   "id": "79c95d14",
   "metadata": {},
   "outputs": [
    {
     "data": {
      "image/png": "[encoded data removed]",
      "text/plain": [
       "<Figure size 1600x800 with 1 Axes>"
      ]
     },
     "metadata": {},
     "output_type": "display_data"
    }
   ],
   "source": [
    "#Visualize missing value patterns using a heatmap\n",
    "\n",
    "plt.figure(figsize=(16, 8))\n",
    "sns.heatmap(df.isnull(), cbar=False, cmap='viridis')\n",
    "plt.title(\"Heatmap of Missing Values\")\n",
    "plt.show()"
   ]
  },
  {
   "cell_type": "code",
   "execution_count": 202,
   "id": "5ddb3255",
   "metadata": {},
   "outputs": [
    {
     "name": "stdout",
     "output_type": "stream",
     "text": [
      "                                Missing Count  Missing % Missing Type\n",
      "hotel                                       0       0.00         MCAR\n",
      "is_canceled                                 0       0.00         MCAR\n",
      "lead_time                                   0       0.00         MCAR\n",
      "arrival_date_year                           0       0.00         MCAR\n",
      "arrival_date_month                          0       0.00         MCAR\n",
      "arrival_date_week_number                    0       0.00         MCAR\n",
      "arrival_date_day_of_month                   0       0.00         MCAR\n",
      "stays_in_weekend_nights                     0       0.00         MCAR\n",
      "stays_in_week_nights                        0       0.00         MCAR\n",
      "adults                                      0       0.00         MCAR\n",
      "children                                    4       0.00         MCAR\n",
      "babies                                      0       0.00         MCAR\n",
      "meal                                        0       0.00         MCAR\n",
      "country                                   488       0.41         MNAR\n",
      "market_segment                              0       0.00         MCAR\n",
      "distribution_channel                        0       0.00         MCAR\n",
      "is_repeated_guest                           0       0.00         MCAR\n",
      "previous_cancellations                      0       0.00         MCAR\n",
      "previous_bookings_not_canceled              0       0.00         MCAR\n",
      "reserved_room_type                          0       0.00         MCAR\n",
      "assigned_room_type                          0       0.00         MCAR\n",
      "booking_changes                             0       0.00         MCAR\n",
      "deposit_type                                0       0.00         MCAR\n",
      "agent                                   16340      13.69          MAR\n",
      "company                                112593      94.31          MAR\n",
      "days_in_waiting_list                        0       0.00         MCAR\n",
      "customer_type                               0       0.00         MCAR\n",
      "adr                                         0       0.00         MCAR\n",
      "required_car_parking_spaces                 0       0.00         MCAR\n",
      "total_of_special_requests                   0       0.00         MCAR\n",
      "reservation_status                          0       0.00         MCAR\n",
      "reservation_status_date                     0       0.00         MCAR\n"
     ]
    }
   ],
   "source": [
    "#Categorise missing values as MCAR, MAR, or MNAR\n",
    "\n",
    "missing_report['Missing Type'] = [\n",
    "    'MAR' if col in ['agent', 'company'] else\n",
    "    'MNAR' if col == 'country' else\n",
    "    'MCAR' for col in missing_report.index\n",
    "]\n",
    "\n",
    "print(missing_report)"
   ]
  },
  {
   "cell_type": "markdown",
   "id": "75f9fb8b",
   "metadata": {},
   "source": [
    "Task 1.3: Data Quality Assessment"
   ]
  },
  {
   "cell_type": "code",
   "execution_count": 203,
   "id": "bd4c07e1",
   "metadata": {},
   "outputs": [
    {
     "name": "stdout",
     "output_type": "stream",
     "text": [
      "Number of exact duplicates: 31994\n"
     ]
    }
   ],
   "source": [
    "#Check for duplicate records\n",
    "\n",
    "duplicates = df.duplicated()\n",
    "print(f\"Number of exact duplicates: {duplicates.sum()}\")"
   ]
  },
  {
   "cell_type": "code",
   "execution_count": 204,
   "id": "6407926a",
   "metadata": {},
   "outputs": [
    {
     "data": {
      "image/png": "[encoded data removed]",
      "text/plain": [
       "<Figure size 1000x400 with 1 Axes>"
      ]
     },
     "metadata": {},
     "output_type": "display_data"
    },
    {
     "data": {
      "image/png": "[encoded data removed]",
      "text/plain": [
       "<Figure size 1000x400 with 1 Axes>"
      ]
     },
     "metadata": {},
     "output_type": "display_data"
    },
    {
     "data": {
      "image/png": "[encoded data removed]",
      "text/plain": [
       "<Figure size 1000x400 with 1 Axes>"
      ]
     },
     "metadata": {},
     "output_type": "display_data"
    },
    {
     "data": {
      "image/png": "[encoded data removed]",
      "text/plain": [
       "<Figure size 1000x400 with 1 Axes>"
      ]
     },
     "metadata": {},
     "output_type": "display_data"
    },
    {
     "data": {
      "image/png": "[encoded data removed]",
      "text/plain": [
       "<Figure size 1000x400 with 1 Axes>"
      ]
     },
     "metadata": {},
     "output_type": "display_data"
    },
    {
     "data": {
      "image/png": "[encoded data removed]",
      "text/plain": [
       "<Figure size 1000x400 with 1 Axes>"
      ]
     },
     "metadata": {},
     "output_type": "display_data"
    },
    {
     "data": {
      "image/png": "[encoded data removed]",
      "text/plain": [
       "<Figure size 1000x400 with 1 Axes>"
      ]
     },
     "metadata": {},
     "output_type": "display_data"
    }
   ],
   "source": [
    "#Identify potential outliers in numerical columns\n",
    "\n",
    "cols_to_check = ['lead_time', 'adr', 'stays_in_week_nights', 'stays_in_weekend_nights', 'adults', 'children', 'babies']\n",
    "\n",
    "for col in cols_to_check:\n",
    "    plt.figure(figsize=(10, 4))\n",
    "    sns.boxplot(x=df[col])\n",
    "    plt.title(f\"Outlier Check: {col}\")\n",
    "    plt.show()"
   ]
  },
  {
   "cell_type": "code",
   "execution_count": 205,
   "id": "de120279",
   "metadata": {},
   "outputs": [
    {
     "name": "stdout",
     "output_type": "stream",
     "text": [
      "\n",
      "Unique values in hotel:\n",
      "['Resort Hotel' 'City Hotel']\n",
      "\n",
      "Unique values in arrival_date_month:\n",
      "['July' 'August' 'September' 'October' 'November' 'December' 'January'\n",
      " 'February' 'March' 'April']\n",
      "\n",
      "Unique values in meal:\n",
      "['BB' 'FB' 'HB' 'SC' 'Undefined']\n",
      "\n",
      "Unique values in country:\n",
      "['PRT' 'GBR' 'USA' 'ESP' 'IRL' 'FRA' nan 'ROU' 'NOR' 'OMN']\n",
      "\n",
      "Unique values in market_segment:\n",
      "['Direct' 'Corporate' 'Online TA' 'Offline TA/TO' 'Complementary' 'Groups'\n",
      " 'Undefined' 'Aviation']\n",
      "\n",
      "Unique values in distribution_channel:\n",
      "['Direct' 'Corporate' 'TA/TO' 'Undefined' 'GDS']\n",
      "\n",
      "Unique values in reserved_room_type:\n",
      "['C' 'A' 'D' 'E' 'G' 'F' 'H' 'L' 'P' 'B']\n",
      "\n",
      "Unique values in assigned_room_type:\n",
      "['C' 'A' 'D' 'E' 'G' 'F' 'I' 'B' 'H' 'P']\n",
      "\n",
      "Unique values in deposit_type:\n",
      "['No Deposit' 'Refundable' 'Non Refund']\n",
      "\n",
      "Unique values in customer_type:\n",
      "['Transient' 'Contract' 'Transient-Party' 'Group']\n",
      "\n",
      "Unique values in reservation_status:\n",
      "['Check-Out' 'Canceled' 'No-Show']\n",
      "\n",
      "Unique values in reservation_status_date:\n",
      "['2015-07-01' '2015-07-02' '2015-07-03' '2015-05-06' '2015-04-22'\n",
      " '2015-06-23' '2015-07-05' '2015-07-06' '2015-07-07' '2015-07-08']\n"
     ]
    }
   ],
   "source": [
    "#Examine categorical variables for inconsistencies\n",
    "\n",
    "for col in df.select_dtypes(include='object'):\n",
    "    print(f\"\\nUnique values in {col}:\\n{df[col].unique()[:10]}\")"
   ]
  },
  {
   "cell_type": "code",
   "execution_count": 206,
   "id": "dd7fe1a4",
   "metadata": {},
   "outputs": [
    {
     "name": "stdout",
     "output_type": "stream",
     "text": [
      "Rows with zero guests: 180\n"
     ]
    }
   ],
   "source": [
    "#Check for impossible or illogical values\n",
    "\n",
    "zero_guests = df[(df['adults'] + df['children'] + df['babies']) == 0]\n",
    "print(f\"Rows with zero guests: {len(zero_guests)}\")"
   ]
  },
  {
   "cell_type": "markdown",
   "id": "1a4587ba",
   "metadata": {},
   "source": [
    "Phase 2: Data Cleaning Implementation"
   ]
  },
  {
   "cell_type": "markdown",
   "id": "d8b1dde7",
   "metadata": {},
   "source": [
    "Task 2.1: Handling Missing Values"
   ]
  },
  {
   "cell_type": "code",
   "execution_count": 207,
   "id": "f8359f5c",
   "metadata": {},
   "outputs": [
    {
     "data": {
      "text/plain": [
       "0         0.0\n",
       "1         0.0\n",
       "2         0.0\n",
       "3         0.0\n",
       "4         0.0\n",
       "         ... \n",
       "119385    0.0\n",
       "119386    0.0\n",
       "119387    0.0\n",
       "119388    0.0\n",
       "119389    0.0\n",
       "Name: children, Length: 119390, dtype: float64"
      ]
     },
     "execution_count": 207,
     "metadata": {},
     "output_type": "execute_result"
    }
   ],
   "source": [
    "#Replace missing children values with 0\n",
    "\n",
    "df['children'].fillna(0, inplace=True)\n",
    "df['children']"
   ]
  },
  {
   "cell_type": "code",
   "execution_count": 208,
   "id": "7a88c929",
   "metadata": {},
   "outputs": [
    {
     "name": "stdout",
     "output_type": "stream",
     "text": [
      "Most frequent country: PRT\n"
     ]
    },
    {
     "data": {
      "text/plain": [
       "0         PRT\n",
       "1         PRT\n",
       "2         GBR\n",
       "3         GBR\n",
       "4         GBR\n",
       "         ... \n",
       "119385    BEL\n",
       "119386    FRA\n",
       "119387    DEU\n",
       "119388    GBR\n",
       "119389    DEU\n",
       "Name: country, Length: 119390, dtype: object"
      ]
     },
     "execution_count": 208,
     "metadata": {},
     "output_type": "execute_result"
    }
   ],
   "source": [
    "#Handle missing country values\n",
    "\n",
    "most_common_country = df['country'].mode()[0]\n",
    "print(\"Most frequent country:\", most_common_country)\n",
    "\n",
    "# Fill with mode\n",
    "df['country'].fillna(most_common_country, inplace=True)\n",
    "df['country']"
   ]
  },
  {
   "cell_type": "code",
   "execution_count": 209,
   "id": "c197d166",
   "metadata": {},
   "outputs": [
    {
     "data": {
      "text/plain": [
       "0           0.0\n",
       "1           0.0\n",
       "2           0.0\n",
       "3         304.0\n",
       "4         240.0\n",
       "          ...  \n",
       "119385    394.0\n",
       "119386      9.0\n",
       "119387      9.0\n",
       "119388     89.0\n",
       "119389      9.0\n",
       "Name: agent, Length: 119390, dtype: float64"
      ]
     },
     "execution_count": 209,
     "metadata": {},
     "output_type": "execute_result"
    }
   ],
   "source": [
    "#Replace missing agent values with 0\n",
    "\n",
    "df['agent'].fillna(0, inplace=True)\n",
    "df['agent']"
   ]
  },
  {
   "cell_type": "code",
   "execution_count": 210,
   "id": "2a9f807b",
   "metadata": {},
   "outputs": [
    {
     "data": {
      "text/plain": [
       "0         0.0\n",
       "1         0.0\n",
       "2         0.0\n",
       "3         0.0\n",
       "4         0.0\n",
       "         ... \n",
       "119385    0.0\n",
       "119386    0.0\n",
       "119387    0.0\n",
       "119388    0.0\n",
       "119389    0.0\n",
       "Name: company, Length: 119390, dtype: float64"
      ]
     },
     "execution_count": 210,
     "metadata": {},
     "output_type": "execute_result"
    }
   ],
   "source": [
    "#Replace missing company values with 0\n",
    "\n",
    "df['company'].fillna(0, inplace=True)\n",
    "df['company']"
   ]
  },
  {
   "cell_type": "code",
   "execution_count": 211,
   "id": "d529c90b",
   "metadata": {},
   "outputs": [
    {
     "name": "stdout",
     "output_type": "stream",
     "text": [
      "Remaining missing values: \n",
      " Series([], dtype: int64)\n"
     ]
    }
   ],
   "source": [
    "#Confirm No Missing Values\n",
    "\n",
    "print(\"Remaining missing values: \\n\", df.isnull().sum()[df.isnull().sum() > 0])"
   ]
  },
  {
   "cell_type": "markdown",
   "id": "01525d59",
   "metadata": {},
   "source": [
    "Task 2.2: Duplicate Detection and Remove"
   ]
  },
  {
   "cell_type": "code",
   "execution_count": 212,
   "id": "cc5f1cc8",
   "metadata": {},
   "outputs": [
    {
     "name": "stdout",
     "output_type": "stream",
     "text": [
      "Count of exact duplicates: 32013\n"
     ]
    }
   ],
   "source": [
    "#Identify exact duplicates\n",
    "\n",
    "duplicates = df.duplicated()\n",
    "print(f\"Count of exact duplicates: {duplicates.sum()}\")"
   ]
  },
  {
   "cell_type": "code",
   "execution_count": 213,
   "id": "259aa7e3",
   "metadata": {},
   "outputs": [
    {
     "name": "stdout",
     "output_type": "stream",
     "text": [
      "New shape after removing duplicates: (87377, 32)\n"
     ]
    }
   ],
   "source": [
    "#Remove duplicates\n",
    "\n",
    "df = df.drop_duplicates()\n",
    "print(\"New shape after removing duplicates:\", df.shape)"
   ]
  },
  {
   "cell_type": "markdown",
   "id": "f79ce280",
   "metadata": {},
   "source": [
    "Task 2.3: Outlier Detection and Treatment"
   ]
  },
  {
   "cell_type": "code",
   "execution_count": 9,
   "id": "4853c898",
   "metadata": {},
   "outputs": [],
   "source": [
    "#Use the IQR method for outlier detection\n",
    "\n",
    "columns = ['lead_time', 'stays_in_weekend_nights', 'stays_in_week_nights', 'adults', 'children', 'babies', 'adr']\n",
    "\n",
    "def detect_iqr_bounds(series):\n",
    "    Q1 = series.quantile(0.25)\n",
    "    Q3 = series.quantile(0.75)\n",
    "    IQR = Q3 - Q1\n",
    "    lower = Q1 - 1.5 * IQR\n",
    "    upper = Q3 + 1.5 * IQR\n",
    "    return lower, upper"
   ]
  },
  {
   "cell_type": "code",
   "execution_count": 215,
   "id": "87eafe0c",
   "metadata": {},
   "outputs": [
    {
     "name": "stdout",
     "output_type": "stream",
     "text": [
      "lead_time: 1049 outliers using Z-score > ±3\n",
      "stays_in_weekend_nights: 290 outliers using Z-score > ±3\n",
      "stays_in_week_nights: 1531 outliers using Z-score > ±3\n",
      "adults: 76 outliers using Z-score > ±3\n",
      "children: 3669 outliers using Z-score > ±3\n",
      "babies: 914 outliers using Z-score > ±3\n",
      "adr: 626 outliers using Z-score > ±3\n"
     ]
    }
   ],
   "source": [
    "#Apply Z-Score Manually\n",
    "\n",
    "def z_score_outliers(series, threshold=3):\n",
    "    mean = series.mean()\n",
    "    std = series.std()\n",
    "    z_scores = (series - mean) / std\n",
    "    return series[np.abs(z_scores) > threshold]\n",
    "    \n",
    "for col in columns:\n",
    "    z_outliers = z_score_outliers(df[col])\n",
    "    print(f\"{col}: {len(z_outliers)} outliers using Z-score > ±3\")"
   ]
  },
  {
   "cell_type": "code",
   "execution_count": 216,
   "id": "59491456",
   "metadata": {},
   "outputs": [
    {
     "data": {
      "image/png": "[encoded data removed]",
      "text/plain": [
       "<Figure size 600x200 with 1 Axes>"
      ]
     },
     "metadata": {},
     "output_type": "display_data"
    },
    {
     "data": {
      "image/png": "[encoded data removed]",
      "text/plain": [
       "<Figure size 600x200 with 1 Axes>"
      ]
     },
     "metadata": {},
     "output_type": "display_data"
    },
    {
     "data": {
      "image/png": "[encoded data removed]",
      "text/plain": [
       "<Figure size 600x200 with 1 Axes>"
      ]
     },
     "metadata": {},
     "output_type": "display_data"
    },
    {
     "data": {
      "image/png": "[encoded data removed]",
      "text/plain": [
       "<Figure size 600x200 with 1 Axes>"
      ]
     },
     "metadata": {},
     "output_type": "display_data"
    },
    {
     "data": {
      "image/png": "[encoded data removed]",
      "text/plain": [
       "<Figure size 600x200 with 1 Axes>"
      ]
     },
     "metadata": {},
     "output_type": "display_data"
    },
    {
     "data": {
      "image/png": "[encoded data removed]",
      "text/plain": [
       "<Figure size 600x200 with 1 Axes>"
      ]
     },
     "metadata": {},
     "output_type": "display_data"
    },
    {
     "data": {
      "image/png": "[encoded data removed]",
      "text/plain": [
       "<Figure size 600x200 with 1 Axes>"
      ]
     },
     "metadata": {},
     "output_type": "display_data"
    }
   ],
   "source": [
    "#Visualize Using Boxplots\n",
    "for col in columns:\n",
    "    plt.figure(figsize=(6, 2))\n",
    "    sns.boxplot(x=df[col], color='skyblue')\n",
    "    plt.title(f'Boxplot of {col}')\n",
    "    plt.tight_layout()\n",
    "    plt.show()"
   ]
  },
  {
   "cell_type": "code",
   "execution_count": 217,
   "id": "69e7889b",
   "metadata": {},
   "outputs": [
    {
     "name": "stdout",
     "output_type": "stream",
     "text": [
      "lead_time: Removed 2396 outliers using IQR\n",
      "stays_in_weekend_nights: Removed 212 outliers using IQR\n",
      "stays_in_week_nights: Removed 2633 outliers using IQR\n",
      "adults: Removed 21799 outliers using IQR\n",
      "children: Removed 6812 outliers using IQR\n",
      "babies: Removed 676 outliers using IQR\n",
      "adr: Removed 1629 outliers using IQR\n"
     ]
    }
   ],
   "source": [
    "#Remove IQR Outliers\n",
    "for col in columns:\n",
    "    lower, upper = detect_iqr_bounds(df[col])\n",
    "    before = df.shape[0]\n",
    "    df = df[(df[col] >= lower) & (df[col] <= upper)]\n",
    "    after = df.shape[0]\n",
    "    print(f\"{col}: Removed {before - after} outliers using IQR\")"
   ]
  },
  {
   "cell_type": "markdown",
   "id": "b07134e6",
   "metadata": {},
   "source": [
    "Task 2.4: Data Inconsistency Fixes"
   ]
  },
  {
   "cell_type": "code",
   "execution_count": 218,
   "id": "60ebf150",
   "metadata": {},
   "outputs": [
    {
     "data": {
      "text/plain": [
       "4         GBR\n",
       "6         PRT\n",
       "7         PRT\n",
       "8         PRT\n",
       "9         PRT\n",
       "         ... \n",
       "119383    DEU\n",
       "119384    BEL\n",
       "119385    BEL\n",
       "119387    DEU\n",
       "119388    GBR\n",
       "Name: country, Length: 51220, dtype: object"
      ]
     },
     "execution_count": 218,
     "metadata": {},
     "output_type": "execute_result"
    }
   ],
   "source": [
    "#Standardise Categorical Values\n",
    "df['country'] = df['country'].str.upper()\n",
    "df['country']"
   ]
  },
  {
   "cell_type": "code",
   "execution_count": 219,
   "id": "676b8829",
   "metadata": {},
   "outputs": [
    {
     "data": {
      "text/plain": [
       "4        2015-07-03\n",
       "6        2015-07-03\n",
       "7        2015-07-03\n",
       "8        2015-05-06\n",
       "9        2015-04-22\n",
       "            ...    \n",
       "119383   2017-09-06\n",
       "119384   2017-09-06\n",
       "119385   2017-09-06\n",
       "119387   2017-09-07\n",
       "119388   2017-09-07\n",
       "Name: reservation_status_date, Length: 51220, dtype: datetime64[ns]"
      ]
     },
     "execution_count": 219,
     "metadata": {},
     "output_type": "execute_result"
    }
   ],
   "source": [
    "#Fix date format inconsistencies\n",
    "\n",
    "df['reservation_status_date'] = pd.to_datetime(df['reservation_status_date'])\n",
    "df['reservation_status_date']"
   ]
  },
  {
   "cell_type": "code",
   "execution_count": 220,
   "id": "3bf357a5",
   "metadata": {},
   "outputs": [
    {
     "data": {
      "text/plain": [
       "4        2015-07-01\n",
       "6        2015-07-01\n",
       "7        2015-07-01\n",
       "8        2015-07-01\n",
       "9        2015-07-01\n",
       "            ...    \n",
       "119383   2017-08-31\n",
       "119384   2017-08-30\n",
       "119385   2017-08-30\n",
       "119387   2017-08-31\n",
       "119388   2017-08-31\n",
       "Name: arrival_date, Length: 51220, dtype: datetime64[ns]"
      ]
     },
     "execution_count": 220,
     "metadata": {},
     "output_type": "execute_result"
    }
   ],
   "source": [
    "# Convert month name to number\n",
    "df['arrival_month_num'] = pd.to_datetime(df['arrival_date_month'], format='%B').dt.month\n",
    "\n",
    "# Create arrival_date from year, month, day\n",
    "df['arrival_date'] = pd.to_datetime(\n",
    "    df['arrival_date_year'].astype(str) + '-' +\n",
    "    df['arrival_month_num'].astype(str) + '-' +\n",
    "    df['arrival_date_day_of_month'].astype(str),\n",
    "    errors='coerce'\n",
    ")\n",
    "df['arrival_date']"
   ]
  },
  {
   "cell_type": "code",
   "execution_count": 221,
   "id": "56c9ec73",
   "metadata": {},
   "outputs": [
    {
     "name": "stdout",
     "output_type": "stream",
     "text": [
      "Invalid guest entries: 0\n",
      "Shape after removing invalid rows: (51220, 34)\n"
     ]
    }
   ],
   "source": [
    "#Handle Impossible Combinations\n",
    "invalid_guests = df[(df['adults'] + df['children'] + df['babies']) == 0]\n",
    "print(\"Invalid guest entries:\", len(invalid_guests))\n",
    "\n",
    "# Remove them\n",
    "df = df[~((df['adults'] + df['children'] + df['babies']) == 0)]\n",
    "print(\"Shape after removing invalid rows:\", df.shape)"
   ]
  },
  {
   "cell_type": "code",
   "execution_count": 222,
   "id": "3a9a97bc",
   "metadata": {},
   "outputs": [
    {
     "name": "stdout",
     "output_type": "stream",
     "text": [
      "lead_time: 0 rows with negative values\n",
      "adr: 0 rows with negative values\n",
      "stays_in_weekend_nights: 0 rows with negative values\n",
      "stays_in_week_nights: 0 rows with negative values\n"
     ]
    }
   ],
   "source": [
    "#Validate Logical Constraints\n",
    "\n",
    "for col in ['lead_time', 'adr', 'stays_in_weekend_nights', 'stays_in_week_nights']:\n",
    "    negatives = df[df[col] < 0]\n",
    "    print(f\"{col}: {len(negatives)} rows with negative values\")"
   ]
  },
  {
   "cell_type": "code",
   "execution_count": 223,
   "id": "126f1209",
   "metadata": {},
   "outputs": [
    {
     "name": "stdout",
     "output_type": "stream",
     "text": [
      "Final dataset shape: (51220, 34)\n",
      "Any missing values left?\n",
      " 0\n"
     ]
    }
   ],
   "source": [
    "print(\"Final dataset shape:\", df.shape)\n",
    "print(\"Any missing values left?\\n\", df.isnull().sum().sum())"
   ]
  },
  {
   "cell_type": "markdown",
   "id": "1e2d0076",
   "metadata": {},
   "source": [
    "Phase 3: Data Validation and Documentation"
   ]
  },
  {
   "cell_type": "markdown",
   "id": "0678cb39",
   "metadata": {},
   "source": [
    "Task 3.1: Data Integrity Checks"
   ]
  },
  {
   "cell_type": "code",
   "execution_count": 167,
   "id": "e2631706",
   "metadata": {},
   "outputs": [
    {
     "name": "stdout",
     "output_type": "stream",
     "text": [
      "Rows with 0 total guests: 0\n"
     ]
    }
   ],
   "source": [
    "#Check if total guests > 0\n",
    "df['total_guests'] = df['adults'] + df['children'] + df['babies']\n",
    "invalid_guests = df[df['total_guests'] == 0]\n",
    "print(\"Rows with 0 total guests:\", len(invalid_guests))\n",
    "\n",
    "# Remove them if not already removed\n",
    "df = df[df['total_guests'] > 0]"
   ]
  },
  {
   "cell_type": "code",
   "execution_count": 168,
   "id": "d1eb4d67",
   "metadata": {},
   "outputs": [
    {
     "name": "stdout",
     "output_type": "stream",
     "text": [
      "Arrival Date Range: 2015-07-01 00:00:00 to 2017-08-31 00:00:00\n"
     ]
    }
   ],
   "source": [
    "#Check if arrival dates are within a valid range\n",
    "\n",
    "print(\"Arrival Date Range:\", df['arrival_date'].min(), \"to\", df['arrival_date'].max())"
   ]
  },
  {
   "cell_type": "code",
   "execution_count": 169,
   "id": "670d7c51",
   "metadata": {},
   "outputs": [
    {
     "name": "stdout",
     "output_type": "stream",
     "text": [
      "lead_time range: 0 to 296\n",
      "adr range: 0.0 to 202.67\n",
      "stays_in_weekend_nights range: 0 to 4\n",
      "stays_in_week_nights range: 0 to 6\n",
      "adults range: 2 to 2\n",
      "children range: 0.0 to 0.0\n",
      "babies range: 0 to 0\n"
     ]
    }
   ],
   "source": [
    "# List of numerical columns to validate\n",
    "num_cols = ['lead_time', 'adr', 'stays_in_weekend_nights', 'stays_in_week_nights', 'adults', 'children', 'babies']\n",
    "\n",
    "for col in num_cols:\n",
    "    print(f\"{col} range: {df[col].min()} to {df[col].max()}\")"
   ]
  },
  {
   "cell_type": "code",
   "execution_count": 170,
   "id": "68f46450",
   "metadata": {},
   "outputs": [
    {
     "name": "stdout",
     "output_type": "stream",
     "text": [
      "Unique values in 'meal': ['BB' 'FB' 'HB' 'Undefined' 'SC']\n",
      "Unique values in 'customer_type': ['Transient' 'Contract' 'Transient-Party' 'Group']\n",
      "Unique values in 'market_segment': ['Online TA' 'Direct' 'Offline TA/TO' 'Corporate' 'Groups' 'Complementary'\n",
      " 'Undefined' 'Aviation']\n"
     ]
    }
   ],
   "source": [
    "#Validate expected categories in key columns\n",
    "\n",
    "print(\"Unique values in 'meal':\", df['meal'].unique())\n",
    "print(\"Unique values in 'customer_type':\", df['customer_type'].unique())\n",
    "print(\"Unique values in 'market_segment':\", df['market_segment'].unique())"
   ]
  },
  {
   "cell_type": "markdown",
   "id": "89232103",
   "metadata": {},
   "source": [
    "Task 3.3: Final Dataset Preparation"
   ]
  },
  {
   "cell_type": "code",
   "execution_count": 7,
   "id": "489412da",
   "metadata": {},
   "outputs": [
    {
     "name": "stdout",
     "output_type": "stream",
     "text": [
      "Cleaned dataset saved as 'hotel_bookings_cleaned.csv'\n"
     ]
    }
   ],
   "source": [
    "#Export final dataset\n",
    "\n",
    "df.to_csv('D:/Bsc IT/3 year 2 sem/Mitun_Hirushan_data_cleaning/data/hotel_bookings_cleaned.csv', index=False)\n",
    "print(\"Cleaned dataset saved as 'hotel_bookings_cleaned.csv'\")"
   ]
  },
  {
   "cell_type": "code",
   "execution_count": 6,
   "id": "edb039b2",
   "metadata": {},
   "outputs": [
    {
     "name": "stdout",
     "output_type": "stream",
     "text": [
      "Data dictionary saved as 'data_dictionary.csv'\n"
     ]
    }
   ],
   "source": [
    "#Create a basic Data Dictionary (CSV)\n",
    "\n",
    "data_dict = pd.DataFrame({\n",
    "    'Column': df.columns,\n",
    "    'DataType': df.dtypes.astype(str),\n",
    "    'Description': [\n",
    "        'Type of hotel (City or Resort)',\n",
    "        'Booking cancellation flag',\n",
    "        'Number of days before arrival the booking was made',\n",
    "        'Year of arrival',\n",
    "        'Month of arrival',\n",
    "        'Day of month of arrival',\n",
    "        'Number of weekend nights',\n",
    "        'Number of week nights',\n",
    "        'Number of adults',\n",
    "        'Number of children',\n",
    "        'Number of babies',\n",
    "        'Meal plan type',\n",
    "        'Country of origin',\n",
    "        'Booking channel',\n",
    "        'Customer type',\n",
    "        'Average Daily Rate',\n",
    "        'Date reservation was made final',\n",
    "        'Constructed arrival date',\n",
    "        'Total number of guests'\n",
    "    ] + [''] * (len(df.columns) - 19)  # Fill blanks for unused columns\n",
    "})\n",
    "\n",
    "data_dict.to_csv(\"D:/Bsc IT/3 year 2 sem/Mitun_Hirushan_data_cleaning/data/data_dictionary.csv\", index=False)\n",
    "print(\"Data dictionary saved as 'data_dictionary.csv'\")"
   ]
  },
  {
   "cell_type": "markdown",
   "id": "4789c631",
   "metadata": {},
   "source": [
    "Extension 1:Feature Engineering"
   ]
  },
  {
   "cell_type": "code",
   "execution_count": 173,
   "id": "e0b74b25",
   "metadata": {},
   "outputs": [
    {
     "name": "stdout",
     "output_type": "stream",
     "text": [
      "   total_nights  is_weekend_only  total_guests\n",
      "4             2                0           2.0\n",
      "6             2                0           2.0\n",
      "7             2                0           2.0\n",
      "8             3                0           2.0\n",
      "9             3                0           2.0\n"
     ]
    }
   ],
   "source": [
    "df['total_nights'] = df['stays_in_week_nights'] + df['stays_in_weekend_nights']\n",
    "df['is_weekend_only'] = np.where((df['stays_in_week_nights'] == 0) & (df['stays_in_weekend_nights'] > 0), 1, 0)\n",
    "df['total_guests'] = df['adults'] + df['children'] + df['babies']\n",
    "\n",
    "print(df[['total_nights', 'is_weekend_only', 'total_guests']].head())"
   ]
  },
  {
   "cell_type": "code",
   "execution_count": 174,
   "id": "9d2093dd",
   "metadata": {},
   "outputs": [
    {
     "name": "stdout",
     "output_type": "stream",
     "text": [
      "  arrival_date_month  arrival_month_num  season\n",
      "4               July                  7  Summer\n",
      "6               July                  7  Summer\n",
      "7               July                  7  Summer\n",
      "8               July                  7  Summer\n",
      "9               July                  7  Summer\n"
     ]
    }
   ],
   "source": [
    "df['arrival_month_num'] = pd.to_datetime(df['arrival_date_month'], format='%B').dt.month\n",
    "\n",
    "def get_season(month):\n",
    "    if month in [12, 1, 2]: return 'Winter'\n",
    "    elif month in [3, 4, 5]: return 'Spring'\n",
    "    elif month in [6, 7, 8]: return 'Summer'\n",
    "    else: return 'Autumn'\n",
    "\n",
    "df['season'] = df['arrival_month_num'].apply(get_season)\n",
    "print(df[['arrival_date_month', 'arrival_month_num', 'season']].head())"
   ]
  },
  {
   "cell_type": "code",
   "execution_count": 175,
   "id": "1475f41d",
   "metadata": {},
   "outputs": [
    {
     "name": "stdout",
     "output_type": "stream",
     "text": [
      "     adr  total_nights  total_guests  total_revenue  revenue_per_guest\n",
      "4   98.0             2           2.0          196.0              98.00\n",
      "6  107.0             2           2.0          214.0             107.00\n",
      "7  103.0             2           2.0          206.0             103.00\n",
      "8   82.0             3           2.0          246.0             123.00\n",
      "9  105.5             3           2.0          316.5             158.25\n"
     ]
    }
   ],
   "source": [
    "df['total_revenue'] = df['adr'] * df['total_nights']\n",
    "df['revenue_per_guest'] = df['total_revenue'] / df['total_guests']\n",
    "\n",
    "print(df[['adr', 'total_nights', 'total_guests', 'total_revenue', 'revenue_per_guest']].head())"
   ]
  },
  {
   "cell_type": "code",
   "execution_count": 4,
   "id": "af37cc00",
   "metadata": {},
   "outputs": [
    {
     "name": "stdout",
     "output_type": "stream",
     "text": [
      "✅ Cleaned data shape: (87396, 32)\n"
     ]
    }
   ],
   "source": [
    "def handle_missing(df):\n",
    "    df['children'].fillna(0, inplace=True)\n",
    "    df['agent'].fillna(0, inplace=True)\n",
    "    df['company'].fillna(0, inplace=True)\n",
    "    df['country'].fillna(df['country'].mode()[0], inplace=True)\n",
    "    return df\n",
    "\n",
    "def cap_outliers(df, col):\n",
    "    Q1 = df[col].quantile(0.25)\n",
    "    Q3 = df[col].quantile(0.75)\n",
    "    IQR = Q3 - Q1\n",
    "    lower = Q1 - 1.5 * IQR\n",
    "    upper = Q3 + 1.5 * IQR\n",
    "    df[col] = np.clip(df[col], lower, upper)\n",
    "    return df\n",
    "\n",
    "def clean_data(df):\n",
    "    df = df.drop_duplicates()\n",
    "    df = handle_missing(df)\n",
    "    for col in ['adr', 'lead_time', 'stays_in_weekend_nights', 'stays_in_week_nights', 'adults', 'children', 'babies']:\n",
    "        df = cap_outliers(df, col)\n",
    "    df = df[(df['adults'] + df['children'] + df['babies']) > 0]\n",
    "    return df\n",
    "\n",
    "# Apply pipeline\n",
    "df_cleaned = clean_data(df)\n",
    "print(\"✅ Cleaned data shape:\", df_cleaned.shape)\n"
   ]
  },
  {
   "cell_type": "code",
   "execution_count": 10,
   "id": "32b9d86e",
   "metadata": {},
   "outputs": [
    {
     "name": "stdout",
     "output_type": "stream",
     "text": [
      "📉 Before Cleaning:\n",
      "{'Total Rows': 119390, 'Missing Values': 129425, 'Duplicate Rows': 31994, 'Zero Guest Rows': 180, 'ADR Outliers (>500)': 3}\n",
      "\n",
      "📈 After Cleaning:\n",
      "{'Total Rows': 87396, 'Missing Values': 0, 'Duplicate Rows': 368, 'Zero Guest Rows': 0, 'ADR Outliers (>500)': 0}\n"
     ]
    }
   ],
   "source": [
    "def data_quality_summary(df):\n",
    "    return {\n",
    "        'Total Rows': df.shape[0],\n",
    "        'Missing Values': int(df.isnull().sum().sum()),\n",
    "        'Duplicate Rows': int(df.duplicated().sum()),\n",
    "        'Zero Guest Rows': int((df['adults'] + df['children'] + df['babies'] == 0).sum()),\n",
    "        'ADR Outliers (>500)': int((df['adr'] > 500).sum())\n",
    "    }\n",
    "\n",
    "print(\"📉 Before Cleaning:\")\n",
    "print(data_quality_summary(pd.read_csv(\"D:/Bsc IT/3 year 2 sem/Mitun_Hirushan_data_cleaning/data/hotel_bookings.csv\")))\n",
    "\n",
    "print(\"\\n📈 After Cleaning:\")\n",
    "print(data_quality_summary(df_cleaned))\n"
   ]
  },
  {
   "cell_type": "code",
   "execution_count": 178,
   "id": "95598c40",
   "metadata": {},
   "outputs": [
    {
     "data": {
      "image/png": "[encoded data removed]",
      "text/plain": [
       "<Figure size 800x400 with 1 Axes>"
      ]
     },
     "metadata": {},
     "output_type": "display_data"
    }
   ],
   "source": [
    "plt.figure(figsize=(8, 4))\n",
    "sns.histplot(df_cleaned['adr'], bins=50, color='green', kde=True)\n",
    "plt.title(\"ADR Distribution After Cleaning\")\n",
    "plt.xlabel(\"ADR\")\n",
    "plt.ylabel(\"Frequency\")\n",
    "plt.tight_layout()\n",
    "plt.show()"
   ]
  }
 ],
 "metadata": {
  "kernelspec": {
   "display_name": "myenv1",
   "language": "python",
   "name": "python3"
  },
  "language_info": {
   "codemirror_mode": {
    "name": "ipython",
    "version": 3
   },
   "file_extension": ".py",
   "mimetype": "text/x-python",
   "name": "python",
   "nbconvert_exporter": "python",
   "pygments_lexer": "ipython3",
   "version": "3.12.11"
  }
 },
 "nbformat": 4,
 "nbformat_minor": 5
}
